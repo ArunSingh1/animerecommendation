{
 "cells": [
  {
   "cell_type": "code",
   "execution_count": null,
   "id": "b3619983",
   "metadata": {},
   "outputs": [],
   "source": []
  },
  {
   "cell_type": "code",
   "execution_count": 2,
   "id": "8373a35b",
   "metadata": {},
   "outputs": [],
   "source": [
    "import pandas as pd\n",
    "import numpy as np"
   ]
  },
  {
   "cell_type": "code",
   "execution_count": 3,
   "id": "3909479c",
   "metadata": {},
   "outputs": [],
   "source": [
    "data = pd.read_csv(\"./data/anime_list.csv\")"
   ]
  },
  {
   "cell_type": "code",
   "execution_count": 3,
   "id": "7d26406b",
   "metadata": {},
   "outputs": [
    {
     "data": {
      "text/html": [
       "<div>\n",
       "<style scoped>\n",
       "    .dataframe tbody tr th:only-of-type {\n",
       "        vertical-align: middle;\n",
       "    }\n",
       "\n",
       "    .dataframe tbody tr th {\n",
       "        vertical-align: top;\n",
       "    }\n",
       "\n",
       "    .dataframe thead th {\n",
       "        text-align: right;\n",
       "    }\n",
       "</style>\n",
       "<table border=\"1\" class=\"dataframe\">\n",
       "  <thead>\n",
       "    <tr style=\"text-align: right;\">\n",
       "      <th></th>\n",
       "      <th>0</th>\n",
       "    </tr>\n",
       "  </thead>\n",
       "  <tbody>\n",
       "    <tr>\n",
       "      <th>mal_id</th>\n",
       "      <td>1</td>\n",
       "    </tr>\n",
       "    <tr>\n",
       "      <th>title</th>\n",
       "      <td>Cowboy Bebop</td>\n",
       "    </tr>\n",
       "    <tr>\n",
       "      <th>synopsis</th>\n",
       "      <td>In the year 2071, humanity has colonized sever...</td>\n",
       "    </tr>\n",
       "    <tr>\n",
       "      <th>background</th>\n",
       "      <td>-</td>\n",
       "    </tr>\n",
       "    <tr>\n",
       "      <th>aired</th>\n",
       "      <td>Apr 3, 1998 to Apr 24, 1999</td>\n",
       "    </tr>\n",
       "    <tr>\n",
       "      <th>airing</th>\n",
       "      <td>0</td>\n",
       "    </tr>\n",
       "    <tr>\n",
       "      <th>duration</th>\n",
       "      <td>24 min per ep</td>\n",
       "    </tr>\n",
       "    <tr>\n",
       "      <th>episodes</th>\n",
       "      <td>26</td>\n",
       "    </tr>\n",
       "    <tr>\n",
       "      <th>type</th>\n",
       "      <td>TV</td>\n",
       "    </tr>\n",
       "    <tr>\n",
       "      <th>favorites</th>\n",
       "      <td>59968</td>\n",
       "    </tr>\n",
       "    <tr>\n",
       "      <th>members</th>\n",
       "      <td>1366272</td>\n",
       "    </tr>\n",
       "    <tr>\n",
       "      <th>rank</th>\n",
       "      <td>32</td>\n",
       "    </tr>\n",
       "    <tr>\n",
       "      <th>popularity</th>\n",
       "      <td>44</td>\n",
       "    </tr>\n",
       "    <tr>\n",
       "      <th>score</th>\n",
       "      <td>8.77</td>\n",
       "    </tr>\n",
       "    <tr>\n",
       "      <th>scored_by</th>\n",
       "      <td>661519</td>\n",
       "    </tr>\n",
       "    <tr>\n",
       "      <th>rating</th>\n",
       "      <td>R - 17+ (violence &amp; profanity)</td>\n",
       "    </tr>\n",
       "    <tr>\n",
       "      <th>premiered</th>\n",
       "      <td>Spring 1998</td>\n",
       "    </tr>\n",
       "    <tr>\n",
       "      <th>genres</th>\n",
       "      <td>Action, Adventure, Comedy, Drama, Sci-Fi, Space</td>\n",
       "    </tr>\n",
       "    <tr>\n",
       "      <th>related</th>\n",
       "      <td>{'Adaptation': [{'mal_id': 173, 'type': 'manga...</td>\n",
       "    </tr>\n",
       "    <tr>\n",
       "      <th>status</th>\n",
       "      <td>Finished Airing</td>\n",
       "    </tr>\n",
       "    <tr>\n",
       "      <th>licensors</th>\n",
       "      <td>Funimation, Bandai Entertainment</td>\n",
       "    </tr>\n",
       "    <tr>\n",
       "      <th>producers</th>\n",
       "      <td>Bandai Visual</td>\n",
       "    </tr>\n",
       "    <tr>\n",
       "      <th>studios</th>\n",
       "      <td>Sunrise</td>\n",
       "    </tr>\n",
       "  </tbody>\n",
       "</table>\n",
       "</div>"
      ],
      "text/plain": [
       "                                                            0\n",
       "mal_id                                                      1\n",
       "title                                            Cowboy Bebop\n",
       "synopsis    In the year 2071, humanity has colonized sever...\n",
       "background                                                  -\n",
       "aired                             Apr 3, 1998 to Apr 24, 1999\n",
       "airing                                                      0\n",
       "duration                                        24 min per ep\n",
       "episodes                                                   26\n",
       "type                                                       TV\n",
       "favorites                                               59968\n",
       "members                                               1366272\n",
       "rank                                                       32\n",
       "popularity                                                 44\n",
       "score                                                    8.77\n",
       "scored_by                                              661519\n",
       "rating                         R - 17+ (violence & profanity)\n",
       "premiered                                         Spring 1998\n",
       "genres        Action, Adventure, Comedy, Drama, Sci-Fi, Space\n",
       "related     {'Adaptation': [{'mal_id': 173, 'type': 'manga...\n",
       "status                                        Finished Airing\n",
       "licensors                    Funimation, Bandai Entertainment\n",
       "producers                                       Bandai Visual\n",
       "studios                                               Sunrise"
      ]
     },
     "execution_count": 3,
     "metadata": {},
     "output_type": "execute_result"
    }
   ],
   "source": [
    "data.head(1).T\n"
   ]
  },
  {
   "cell_type": "code",
   "execution_count": 13,
   "id": "9351dfac",
   "metadata": {},
   "outputs": [],
   "source": [
    "titles = data['title']"
   ]
  },
  {
   "cell_type": "code",
   "execution_count": 15,
   "id": "f5dbdaf4",
   "metadata": {},
   "outputs": [
    {
     "data": {
      "text/plain": [
       "'Kareshi Kanojo no Jijou'"
      ]
     },
     "execution_count": 15,
     "metadata": {},
     "output_type": "execute_result"
    }
   ],
   "source": [
    "titles[123]"
   ]
  },
  {
   "cell_type": "code",
   "execution_count": 15,
   "id": "a2e8e31a",
   "metadata": {},
   "outputs": [
    {
     "data": {
      "text/html": [
       "<div>\n",
       "<style scoped>\n",
       "    .dataframe tbody tr th:only-of-type {\n",
       "        vertical-align: middle;\n",
       "    }\n",
       "\n",
       "    .dataframe tbody tr th {\n",
       "        vertical-align: top;\n",
       "    }\n",
       "\n",
       "    .dataframe thead th {\n",
       "        text-align: right;\n",
       "    }\n",
       "</style>\n",
       "<table border=\"1\" class=\"dataframe\">\n",
       "  <thead>\n",
       "    <tr style=\"text-align: right;\">\n",
       "      <th></th>\n",
       "      <th>mal_id</th>\n",
       "      <th>title</th>\n",
       "      <th>synopsis</th>\n",
       "      <th>background</th>\n",
       "      <th>aired</th>\n",
       "      <th>airing</th>\n",
       "      <th>duration</th>\n",
       "      <th>episodes</th>\n",
       "      <th>type</th>\n",
       "      <th>favorites</th>\n",
       "      <th>...</th>\n",
       "      <th>score</th>\n",
       "      <th>scored_by</th>\n",
       "      <th>rating</th>\n",
       "      <th>premiered</th>\n",
       "      <th>genres</th>\n",
       "      <th>related</th>\n",
       "      <th>status</th>\n",
       "      <th>licensors</th>\n",
       "      <th>producers</th>\n",
       "      <th>studios</th>\n",
       "    </tr>\n",
       "  </thead>\n",
       "  <tbody>\n",
       "    <tr>\n",
       "      <th>0</th>\n",
       "      <td>1</td>\n",
       "      <td>Cowboy Bebop</td>\n",
       "      <td>In the year 2071, humanity has colonized sever...</td>\n",
       "      <td>-</td>\n",
       "      <td>Apr 3, 1998 to Apr 24, 1999</td>\n",
       "      <td>0</td>\n",
       "      <td>24 min per ep</td>\n",
       "      <td>26</td>\n",
       "      <td>TV</td>\n",
       "      <td>59968</td>\n",
       "      <td>...</td>\n",
       "      <td>8.77</td>\n",
       "      <td>661519</td>\n",
       "      <td>R - 17+ (violence &amp; profanity)</td>\n",
       "      <td>Spring 1998</td>\n",
       "      <td>Action, Adventure, Comedy, Drama, Sci-Fi, Space</td>\n",
       "      <td>{'Adaptation': [{'mal_id': 173, 'type': 'manga...</td>\n",
       "      <td>Finished Airing</td>\n",
       "      <td>Funimation, Bandai Entertainment</td>\n",
       "      <td>Bandai Visual</td>\n",
       "      <td>Sunrise</td>\n",
       "    </tr>\n",
       "  </tbody>\n",
       "</table>\n",
       "<p>1 rows × 23 columns</p>\n",
       "</div>"
      ],
      "text/plain": [
       "   mal_id         title                                           synopsis  \\\n",
       "0       1  Cowboy Bebop  In the year 2071, humanity has colonized sever...   \n",
       "\n",
       "  background                        aired  airing       duration  episodes  \\\n",
       "0          -  Apr 3, 1998 to Apr 24, 1999       0  24 min per ep        26   \n",
       "\n",
       "  type  favorites  ...  score  scored_by                          rating  \\\n",
       "0   TV      59968  ...   8.77     661519  R - 17+ (violence & profanity)   \n",
       "\n",
       "     premiered                                           genres  \\\n",
       "0  Spring 1998  Action, Adventure, Comedy, Drama, Sci-Fi, Space   \n",
       "\n",
       "                                             related           status  \\\n",
       "0  {'Adaptation': [{'mal_id': 173, 'type': 'manga...  Finished Airing   \n",
       "\n",
       "                          licensors      producers  studios  \n",
       "0  Funimation, Bandai Entertainment  Bandai Visual  Sunrise  \n",
       "\n",
       "[1 rows x 23 columns]"
      ]
     },
     "execution_count": 15,
     "metadata": {},
     "output_type": "execute_result"
    }
   ],
   "source": [
    "data[:1]"
   ]
  },
  {
   "cell_type": "code",
   "execution_count": 16,
   "id": "d2ffebf9",
   "metadata": {},
   "outputs": [
    {
     "data": {
      "text/html": [
       "<div>\n",
       "<style scoped>\n",
       "    .dataframe tbody tr th:only-of-type {\n",
       "        vertical-align: middle;\n",
       "    }\n",
       "\n",
       "    .dataframe tbody tr th {\n",
       "        vertical-align: top;\n",
       "    }\n",
       "\n",
       "    .dataframe thead th {\n",
       "        text-align: right;\n",
       "    }\n",
       "</style>\n",
       "<table border=\"1\" class=\"dataframe\">\n",
       "  <thead>\n",
       "    <tr style=\"text-align: right;\">\n",
       "      <th></th>\n",
       "      <th>mal_id</th>\n",
       "      <th>title</th>\n",
       "      <th>synopsis</th>\n",
       "      <th>background</th>\n",
       "      <th>aired</th>\n",
       "      <th>airing</th>\n",
       "      <th>duration</th>\n",
       "      <th>episodes</th>\n",
       "      <th>type</th>\n",
       "      <th>favorites</th>\n",
       "      <th>...</th>\n",
       "      <th>score</th>\n",
       "      <th>scored_by</th>\n",
       "      <th>rating</th>\n",
       "      <th>premiered</th>\n",
       "      <th>genres</th>\n",
       "      <th>related</th>\n",
       "      <th>status</th>\n",
       "      <th>licensors</th>\n",
       "      <th>producers</th>\n",
       "      <th>studios</th>\n",
       "    </tr>\n",
       "  </thead>\n",
       "  <tbody>\n",
       "    <tr>\n",
       "      <th>150</th>\n",
       "      <td>173</td>\n",
       "      <td>Tactics</td>\n",
       "      <td>Ichinomiya Kantarou grew up with the ability t...</td>\n",
       "      <td>-</td>\n",
       "      <td>Oct 6, 2004 to Mar 30, 2005</td>\n",
       "      <td>0</td>\n",
       "      <td>24 min per ep</td>\n",
       "      <td>25</td>\n",
       "      <td>TV</td>\n",
       "      <td>159</td>\n",
       "      <td>...</td>\n",
       "      <td>7.22</td>\n",
       "      <td>12191</td>\n",
       "      <td>PG-13 - Teens 13 or older</td>\n",
       "      <td>Fall 2004</td>\n",
       "      <td>Mystery, Comedy, Historical, Demons, Supernatu...</td>\n",
       "      <td>{'Adaptation': [{'mal_id': 87, 'type': 'manga'...</td>\n",
       "      <td>Finished Airing</td>\n",
       "      <td>Manga Entertainment</td>\n",
       "      <td>Studio Izena, MediaNet</td>\n",
       "      <td>Studio Deen</td>\n",
       "    </tr>\n",
       "  </tbody>\n",
       "</table>\n",
       "<p>1 rows × 23 columns</p>\n",
       "</div>"
      ],
      "text/plain": [
       "     mal_id    title                                           synopsis  \\\n",
       "150     173  Tactics  Ichinomiya Kantarou grew up with the ability t...   \n",
       "\n",
       "    background                        aired  airing       duration  episodes  \\\n",
       "150          -  Oct 6, 2004 to Mar 30, 2005       0  24 min per ep        25   \n",
       "\n",
       "    type  favorites  ...  score  scored_by                     rating  \\\n",
       "150   TV        159  ...   7.22      12191  PG-13 - Teens 13 or older   \n",
       "\n",
       "     premiered                                             genres  \\\n",
       "150  Fall 2004  Mystery, Comedy, Historical, Demons, Supernatu...   \n",
       "\n",
       "                                               related           status  \\\n",
       "150  {'Adaptation': [{'mal_id': 87, 'type': 'manga'...  Finished Airing   \n",
       "\n",
       "               licensors               producers      studios  \n",
       "150  Manga Entertainment  Studio Izena, MediaNet  Studio Deen  \n",
       "\n",
       "[1 rows x 23 columns]"
      ]
     },
     "execution_count": 16,
     "metadata": {},
     "output_type": "execute_result"
    }
   ],
   "source": [
    "data[data['mal_id'] == 173]"
   ]
  },
  {
   "cell_type": "code",
   "execution_count": 20,
   "id": "0f91cbd6",
   "metadata": {},
   "outputs": [
    {
     "data": {
      "text/plain": [
       "TV         5283\n",
       "OVA        3911\n",
       "Movie      3112\n",
       "Special    2246\n",
       "ONA        2036\n",
       "Music      1536\n",
       "Unknown      38\n",
       "Name: type, dtype: int64"
      ]
     },
     "execution_count": 20,
     "metadata": {},
     "output_type": "execute_result"
    }
   ],
   "source": [
    "data['type'].value_counts()"
   ]
  },
  {
   "cell_type": "code",
   "execution_count": 21,
   "id": "612c1ee9",
   "metadata": {},
   "outputs": [
    {
     "data": {
      "text/plain": [
       "Not available                 328\n",
       "2005                           57\n",
       "2004                           50\n",
       "2003                           47\n",
       "2008                           46\n",
       "                             ... \n",
       "Jul 24, 1998                    1\n",
       "Jul 5, 1992 to 1992             1\n",
       "Apr 1, 2019 to Jul 2, 2019      1\n",
       "Jul 21, 2001                    1\n",
       "Dec 12, 2016                    1\n",
       "Name: aired, Length: 12335, dtype: int64"
      ]
     },
     "execution_count": 21,
     "metadata": {},
     "output_type": "execute_result"
    }
   ],
   "source": [
    "data['aired'].value_counts()"
   ]
  },
  {
   "cell_type": "code",
   "execution_count": 22,
   "id": "29d2e5a5",
   "metadata": {},
   "outputs": [
    {
     "data": {
      "text/plain": [
       "Finished Airing     17471\n",
       "Not yet aired         372\n",
       "Currently Airing      319\n",
       "Name: status, dtype: int64"
      ]
     },
     "execution_count": 22,
     "metadata": {},
     "output_type": "execute_result"
    }
   ],
   "source": [
    "data['status'].value_counts()"
   ]
  },
  {
   "cell_type": "code",
   "execution_count": 23,
   "id": "1f5dfd79",
   "metadata": {},
   "outputs": [
    {
     "data": {
      "text/plain": [
       "-                                       7414\n",
       "Toei Animation                           758\n",
       "Sunrise                                  480\n",
       "J.C.Staff                                362\n",
       "Madhouse                                 326\n",
       "                                        ... \n",
       "Studio Nue                                 1\n",
       "CoMix Wave Films, FOREST Hunting One       1\n",
       "Urban Product                              1\n",
       "['HS Pictures Studio']                     1\n",
       "NAZ, Magia Doraglier                       1\n",
       "Name: studios, Length: 1145, dtype: int64"
      ]
     },
     "execution_count": 23,
     "metadata": {},
     "output_type": "execute_result"
    }
   ],
   "source": [
    "data['studios'].value_counts()"
   ]
  },
  {
   "cell_type": "code",
   "execution_count": 24,
   "id": "b8581741",
   "metadata": {},
   "outputs": [
    {
     "data": {
      "text/plain": [
       "PG-13 - Teens 13 or older         6346\n",
       "G - All Ages                      5889\n",
       "PG - Children                     1722\n",
       "Rx - Hentai                       1358\n",
       "R - 17+ (violence & profanity)    1185\n",
       "R+ - Mild Nudity                  1000\n",
       "None                               662\n",
       "Name: rating, dtype: int64"
      ]
     },
     "execution_count": 24,
     "metadata": {},
     "output_type": "execute_result"
    }
   ],
   "source": [
    "data['rating'].value_counts()"
   ]
  },
  {
   "cell_type": "code",
   "execution_count": 25,
   "id": "b9918c84",
   "metadata": {},
   "outputs": [
    {
     "data": {
      "text/plain": [
       "-                                                                       8207\n",
       "NHK                                                                      628\n",
       "Pink Pineapple                                                           189\n",
       "Sanrio                                                                   161\n",
       "Bandai Visual                                                            118\n",
       "                                                                        ... \n",
       "Aniplex, Half H.P Studio, Asahi Broadcasting                               1\n",
       "Pony Canyon, APDREAM, Bit grooove promotion, Dream Shift                   1\n",
       "AIC, Kadokawa Shoten, Kadokawa Pictures Japan, KlockWorx, NTT Docomo       1\n",
       "AIC, Sotsu, Lantis, Pony Canyon, Movic, Marvelous AQL                      1\n",
       "Soyuzmultfilm                                                              1\n",
       "Name: producers, Length: 3832, dtype: int64"
      ]
     },
     "execution_count": 25,
     "metadata": {},
     "output_type": "execute_result"
    }
   ],
   "source": [
    "data['producers'].value_counts()"
   ]
  },
  {
   "cell_type": "code",
   "execution_count": 26,
   "id": "0da98fcf",
   "metadata": {},
   "outputs": [
    {
     "data": {
      "text/plain": [
       "0          Action, Adventure, Comedy, Drama, Sci-Fi, Space\n",
       "1                    Action, Drama, Mystery, Sci-Fi, Space\n",
       "2        Action, Sci-Fi, Adventure, Comedy, Drama, Shounen\n",
       "3        Action, Mystery, Police, Supernatural, Drama, ...\n",
       "4                Adventure, Fantasy, Shounen, Supernatural\n",
       "                               ...                        \n",
       "18157                                  ['Music', 'Demons']\n",
       "18158                                    ['Slice of Life']\n",
       "18159                       ['Action', 'Music', 'Fantasy']\n",
       "18160    ['Action', 'Adventure', 'Supernatural', 'Magic...\n",
       "18161              ['Dementia', 'Horror', 'Psychological']\n",
       "Name: genres, Length: 18162, dtype: object"
      ]
     },
     "execution_count": 26,
     "metadata": {},
     "output_type": "execute_result"
    }
   ],
   "source": [
    "data['genres']"
   ]
  },
  {
   "cell_type": "code",
   "execution_count": 29,
   "id": "3c55a711",
   "metadata": {},
   "outputs": [
    {
     "data": {
      "text/plain": [
       "0      Action, Adventure, Comedy, Drama, Sci-Fi, Space\n",
       "1                Action, Drama, Mystery, Sci-Fi, Space\n",
       "2    Action, Sci-Fi, Adventure, Comedy, Drama, Shounen\n",
       "3    Action, Mystery, Police, Supernatural, Drama, ...\n",
       "4            Adventure, Fantasy, Shounen, Supernatural\n",
       "Name: genres, dtype: object"
      ]
     },
     "execution_count": 29,
     "metadata": {},
     "output_type": "execute_result"
    }
   ],
   "source": [
    "data['genres'].head(5).T"
   ]
  },
  {
   "cell_type": "code",
   "execution_count": 36,
   "id": "13b60df8",
   "metadata": {},
   "outputs": [
    {
     "data": {
      "text/plain": [
       "67"
      ]
     },
     "execution_count": 36,
     "metadata": {},
     "output_type": "execute_result"
    }
   ],
   "source": [
    "data['genres'].isnull().sum()"
   ]
  },
  {
   "cell_type": "code",
   "execution_count": 37,
   "id": "1fa8761c",
   "metadata": {},
   "outputs": [
    {
     "data": {
      "text/plain": [
       "Index(['mal_id', 'title', 'synopsis', 'background', 'aired', 'airing',\n",
       "       'duration', 'episodes', 'type', 'favorites', 'members', 'rank',\n",
       "       'popularity', 'score', 'scored_by', 'rating', 'premiered', 'genres',\n",
       "       'related', 'status', 'licensors', 'producers', 'studios'],\n",
       "      dtype='object')"
      ]
     },
     "execution_count": 37,
     "metadata": {},
     "output_type": "execute_result"
    }
   ],
   "source": [
    "data.columns"
   ]
  },
  {
   "cell_type": "code",
   "execution_count": 38,
   "id": "4363a494",
   "metadata": {},
   "outputs": [
    {
     "data": {
      "text/plain": [
       "Hentai                                                 982\n",
       "Music                                                  844\n",
       "Comedy                                                 688\n",
       "Kids                                                   537\n",
       "Dementia                                               235\n",
       "                                                      ... \n",
       "Magic, Comedy, School                                    1\n",
       "Drama, Harem, Romance                                    1\n",
       "Action, Police, Drama, Shounen                           1\n",
       "Music, Comedy, Parody, School                            1\n",
       "Action, Mystery, Police, Supernatural, Drama, Magic      1\n",
       "Name: genres, Length: 5116, dtype: int64"
      ]
     },
     "execution_count": 38,
     "metadata": {},
     "output_type": "execute_result"
    }
   ],
   "source": [
    "data['genres'].value_counts()"
   ]
  },
  {
   "cell_type": "code",
   "execution_count": 40,
   "id": "25f600b3",
   "metadata": {},
   "outputs": [
    {
     "data": {
      "text/plain": [
       "5116"
      ]
     },
     "execution_count": 40,
     "metadata": {},
     "output_type": "execute_result"
    }
   ],
   "source": [
    "data['genres'].nunique()"
   ]
  },
  {
   "cell_type": "code",
   "execution_count": 44,
   "id": "91d67888",
   "metadata": {},
   "outputs": [
    {
     "data": {
      "text/plain": [
       "Index(['mal_id', 'title', 'synopsis', 'background', 'aired', 'airing',\n",
       "       'duration', 'episodes', 'type', 'favorites', 'members', 'rank',\n",
       "       'popularity', 'score', 'scored_by', 'rating', 'premiered', 'genres',\n",
       "       'related', 'status', 'licensors', 'producers', 'studios'],\n",
       "      dtype='object')"
      ]
     },
     "execution_count": 44,
     "metadata": {},
     "output_type": "execute_result"
    }
   ],
   "source": [
    "data.columns"
   ]
  },
  {
   "cell_type": "code",
   "execution_count": 47,
   "id": "862e1213",
   "metadata": {},
   "outputs": [
    {
     "data": {
      "text/plain": [
       "0"
      ]
     },
     "execution_count": 47,
     "metadata": {},
     "output_type": "execute_result"
    }
   ],
   "source": [
    "data['synopsis'].isnull().sum()"
   ]
  },
  {
   "cell_type": "code",
   "execution_count": 4,
   "id": "4562231a",
   "metadata": {},
   "outputs": [],
   "source": [
    "df = data[['mal_id', 'title', 'synopsis', 'score', 'scored_by', 'rating']]"
   ]
  },
  {
   "cell_type": "code",
   "execution_count": 5,
   "id": "190a6b96",
   "metadata": {},
   "outputs": [
    {
     "data": {
      "text/html": [
       "<div>\n",
       "<style scoped>\n",
       "    .dataframe tbody tr th:only-of-type {\n",
       "        vertical-align: middle;\n",
       "    }\n",
       "\n",
       "    .dataframe tbody tr th {\n",
       "        vertical-align: top;\n",
       "    }\n",
       "\n",
       "    .dataframe thead th {\n",
       "        text-align: right;\n",
       "    }\n",
       "</style>\n",
       "<table border=\"1\" class=\"dataframe\">\n",
       "  <thead>\n",
       "    <tr style=\"text-align: right;\">\n",
       "      <th></th>\n",
       "      <th>mal_id</th>\n",
       "      <th>title</th>\n",
       "      <th>synopsis</th>\n",
       "      <th>score</th>\n",
       "      <th>scored_by</th>\n",
       "      <th>rating</th>\n",
       "    </tr>\n",
       "  </thead>\n",
       "  <tbody>\n",
       "    <tr>\n",
       "      <th>0</th>\n",
       "      <td>1</td>\n",
       "      <td>Cowboy Bebop</td>\n",
       "      <td>In the year 2071, humanity has colonized sever...</td>\n",
       "      <td>8.77</td>\n",
       "      <td>661519</td>\n",
       "      <td>R - 17+ (violence &amp; profanity)</td>\n",
       "    </tr>\n",
       "    <tr>\n",
       "      <th>1</th>\n",
       "      <td>5</td>\n",
       "      <td>Cowboy Bebop: Tengoku no Tobira</td>\n",
       "      <td>Another day, another bounty—such is the life o...</td>\n",
       "      <td>8.39</td>\n",
       "      <td>168515</td>\n",
       "      <td>R - 17+ (violence &amp; profanity)</td>\n",
       "    </tr>\n",
       "    <tr>\n",
       "      <th>2</th>\n",
       "      <td>6</td>\n",
       "      <td>Trigun</td>\n",
       "      <td>Vash the Stampede is the man with a $$60,000,0...</td>\n",
       "      <td>8.23</td>\n",
       "      <td>288760</td>\n",
       "      <td>PG-13 - Teens 13 or older</td>\n",
       "    </tr>\n",
       "    <tr>\n",
       "      <th>3</th>\n",
       "      <td>7</td>\n",
       "      <td>Witch Hunter Robin</td>\n",
       "      <td>Witches are individuals with special powers li...</td>\n",
       "      <td>7.27</td>\n",
       "      <td>37135</td>\n",
       "      <td>PG-13 - Teens 13 or older</td>\n",
       "    </tr>\n",
       "    <tr>\n",
       "      <th>4</th>\n",
       "      <td>8</td>\n",
       "      <td>Bouken Ou Beet</td>\n",
       "      <td>It is the dark century and the people are suff...</td>\n",
       "      <td>6.97</td>\n",
       "      <td>5463</td>\n",
       "      <td>PG - Children</td>\n",
       "    </tr>\n",
       "    <tr>\n",
       "      <th>...</th>\n",
       "      <td>...</td>\n",
       "      <td>...</td>\n",
       "      <td>...</td>\n",
       "      <td>...</td>\n",
       "      <td>...</td>\n",
       "      <td>...</td>\n",
       "    </tr>\n",
       "    <tr>\n",
       "      <th>18157</th>\n",
       "      <td>48952</td>\n",
       "      <td>Twisted Wonderland 1st Anniversary PV</td>\n",
       "      <td>Disney's Twisted Wonderland mobile game had it...</td>\n",
       "      <td>-1.00</td>\n",
       "      <td>-1</td>\n",
       "      <td>PG-13 - Teens 13 or older</td>\n",
       "    </tr>\n",
       "    <tr>\n",
       "      <th>18158</th>\n",
       "      <td>48953</td>\n",
       "      <td>Natsume Yuujinchou: Hitoyoshi Kuma de no Yasas...</td>\n",
       "      <td>A collaboration with the Kumamoto prefecture i...</td>\n",
       "      <td>-1.00</td>\n",
       "      <td>-1</td>\n",
       "      <td>G - All Ages</td>\n",
       "    </tr>\n",
       "    <tr>\n",
       "      <th>18159</th>\n",
       "      <td>48954</td>\n",
       "      <td>Hairpin Double</td>\n",
       "      <td>-</td>\n",
       "      <td>-1.00</td>\n",
       "      <td>-1</td>\n",
       "      <td>None</td>\n",
       "    </tr>\n",
       "    <tr>\n",
       "      <th>18160</th>\n",
       "      <td>48956</td>\n",
       "      <td>Wu Shang Shen Di 2nd Season</td>\n",
       "      <td>-</td>\n",
       "      <td>-1.00</td>\n",
       "      <td>-1</td>\n",
       "      <td>PG-13 - Teens 13 or older</td>\n",
       "    </tr>\n",
       "    <tr>\n",
       "      <th>18161</th>\n",
       "      <td>48960</td>\n",
       "      <td>Hunter</td>\n",
       "      <td>Hunter is looking for Gossip every night. A sh...</td>\n",
       "      <td>-1.00</td>\n",
       "      <td>-1</td>\n",
       "      <td>R+ - Mild Nudity</td>\n",
       "    </tr>\n",
       "  </tbody>\n",
       "</table>\n",
       "<p>18162 rows × 6 columns</p>\n",
       "</div>"
      ],
      "text/plain": [
       "       mal_id                                              title  \\\n",
       "0           1                                       Cowboy Bebop   \n",
       "1           5                    Cowboy Bebop: Tengoku no Tobira   \n",
       "2           6                                             Trigun   \n",
       "3           7                                 Witch Hunter Robin   \n",
       "4           8                                     Bouken Ou Beet   \n",
       "...       ...                                                ...   \n",
       "18157   48952              Twisted Wonderland 1st Anniversary PV   \n",
       "18158   48953  Natsume Yuujinchou: Hitoyoshi Kuma de no Yasas...   \n",
       "18159   48954                                     Hairpin Double   \n",
       "18160   48956                        Wu Shang Shen Di 2nd Season   \n",
       "18161   48960                                             Hunter   \n",
       "\n",
       "                                                synopsis  score  scored_by  \\\n",
       "0      In the year 2071, humanity has colonized sever...   8.77     661519   \n",
       "1      Another day, another bounty—such is the life o...   8.39     168515   \n",
       "2      Vash the Stampede is the man with a $$60,000,0...   8.23     288760   \n",
       "3      Witches are individuals with special powers li...   7.27      37135   \n",
       "4      It is the dark century and the people are suff...   6.97       5463   \n",
       "...                                                  ...    ...        ...   \n",
       "18157  Disney's Twisted Wonderland mobile game had it...  -1.00         -1   \n",
       "18158  A collaboration with the Kumamoto prefecture i...  -1.00         -1   \n",
       "18159                                                  -  -1.00         -1   \n",
       "18160                                                  -  -1.00         -1   \n",
       "18161  Hunter is looking for Gossip every night. A sh...  -1.00         -1   \n",
       "\n",
       "                               rating  \n",
       "0      R - 17+ (violence & profanity)  \n",
       "1      R - 17+ (violence & profanity)  \n",
       "2           PG-13 - Teens 13 or older  \n",
       "3           PG-13 - Teens 13 or older  \n",
       "4                       PG - Children  \n",
       "...                               ...  \n",
       "18157       PG-13 - Teens 13 or older  \n",
       "18158                    G - All Ages  \n",
       "18159                            None  \n",
       "18160       PG-13 - Teens 13 or older  \n",
       "18161                R+ - Mild Nudity  \n",
       "\n",
       "[18162 rows x 6 columns]"
      ]
     },
     "execution_count": 5,
     "metadata": {},
     "output_type": "execute_result"
    }
   ],
   "source": [
    "df"
   ]
  },
  {
   "cell_type": "code",
   "execution_count": 6,
   "id": "ed31e5f1",
   "metadata": {},
   "outputs": [
    {
     "name": "stderr",
     "output_type": "stream",
     "text": [
      "<ipython-input-6-1b84ae456fa1>:8: SettingWithCopyWarning: \n",
      "A value is trying to be set on a copy of a slice from a DataFrame.\n",
      "Try using .loc[row_indexer,col_indexer] = value instead\n",
      "\n",
      "See the caveats in the documentation: https://pandas.pydata.org/pandas-docs/stable/user_guide/indexing.html#returning-a-view-versus-a-copy\n",
      "  df['synopsis'] = df['synopsis'].fillna('')\n"
     ]
    },
    {
     "data": {
      "text/plain": [
       "<18162x46659 sparse matrix of type '<class 'numpy.float64'>'\n",
       "\twith 538912 stored elements in Compressed Sparse Row format>"
      ]
     },
     "execution_count": 6,
     "metadata": {},
     "output_type": "execute_result"
    }
   ],
   "source": [
    "#Import TfIdfVectorizer from the scikit-learn library\n",
    "from sklearn.feature_extraction.text import TfidfVectorizer\n",
    "\n",
    "#Define a TF-IDF Vectorizer Object. Remove all english stopwords\n",
    "tfidf = TfidfVectorizer(stop_words='english')\n",
    "\n",
    "#Replace NaN with an empty string\n",
    "df['synopsis'] = df['synopsis'].fillna('')\n",
    "\n",
    "#Construct the required TF-IDF matrix by applying the fit_transform method on the overview feature\n",
    "tfidf_matrix = tfidf.fit_transform(df['synopsis'])\n",
    "\n",
    "#Output the shape of tfidf_matrix\n",
    "tfidf_matrix"
   ]
  },
  {
   "cell_type": "code",
   "execution_count": 7,
   "id": "bcd4ba8b",
   "metadata": {},
   "outputs": [],
   "source": [
    "# Import linear_kernel to compute the dot product\n",
    "from sklearn.metrics.pairwise import linear_kernel"
   ]
  },
  {
   "cell_type": "code",
   "execution_count": 8,
   "id": "2f4902be",
   "metadata": {},
   "outputs": [],
   "source": [
    "#Construct a reverse mapping of indices and movie titles, and drop duplicate titles, if any\n",
    "indices = pd.Series(df.index, index=df['title']).drop_duplicates()"
   ]
  },
  {
   "cell_type": "code",
   "execution_count": 9,
   "id": "7fe10b16",
   "metadata": {},
   "outputs": [],
   "source": [
    "# Function that takes in movie title as input and gives recommendations \n",
    "def content_recommender(title, tfidf_matrix=tfidf_matrix, df=df, indices=indices):\n",
    "    # Obtain the index of the movie that matches the title\n",
    "    idx = indices[title]\n",
    "\n",
    "    # Get the pairwsie similarity scores of all movies with that movie\n",
    "    # And convert it into a list of tuples as described above\n",
    "    sim_scores = list(enumerate(linear_kernel(tfidf_matrix[idx], tfidf_matrix).flatten()))\n",
    "\n",
    "    # Sort the movies based on the cosine similarity scores\n",
    "    sim_scores = sorted(sim_scores, key=lambda x: x[1], reverse=True)\n",
    "\n",
    "    # Get the scores of the 10 most similar movies. Ignore the first movie.\n",
    "    sim_scores = sim_scores[1:11]\n",
    "\n",
    "    # Get the movie indices\n",
    "    movie_indices = [i[0] for i in sim_scores]\n",
    "\n",
    "    # Return the top 10 most similar movies\n",
    "    return df[['title','synopsis']].iloc[movie_indices]"
   ]
  },
  {
   "cell_type": "code",
   "execution_count": 12,
   "id": "b987de44",
   "metadata": {},
   "outputs": [
    {
     "data": {
      "text/html": [
       "<div>\n",
       "<style scoped>\n",
       "    .dataframe tbody tr th:only-of-type {\n",
       "        vertical-align: middle;\n",
       "    }\n",
       "\n",
       "    .dataframe tbody tr th {\n",
       "        vertical-align: top;\n",
       "    }\n",
       "\n",
       "    .dataframe thead th {\n",
       "        text-align: right;\n",
       "    }\n",
       "</style>\n",
       "<table border=\"1\" class=\"dataframe\">\n",
       "  <thead>\n",
       "    <tr style=\"text-align: right;\">\n",
       "      <th></th>\n",
       "      <th>title</th>\n",
       "      <th>synopsis</th>\n",
       "    </tr>\n",
       "  </thead>\n",
       "  <tbody>\n",
       "    <tr>\n",
       "      <th>329</th>\n",
       "      <td>Ojamajo Doremi Dokkaan!</td>\n",
       "      <td>Hana now becomes a peer of the Ojamajo. When M...</td>\n",
       "    </tr>\n",
       "    <tr>\n",
       "      <th>14618</th>\n",
       "      <td>Renmei Kuugun Koukuu Mahou Ongakutai Luminous ...</td>\n",
       "      <td>These are witches who defend everyone's smiles...</td>\n",
       "    </tr>\n",
       "    <tr>\n",
       "      <th>12272</th>\n",
       "      <td>Zero kara Hajimeru Mahou no Sho</td>\n",
       "      <td>In a world of constant war between humans and ...</td>\n",
       "    </tr>\n",
       "    <tr>\n",
       "      <th>17062</th>\n",
       "      <td>World Witches Hasshin Shimasu!</td>\n",
       "      <td>Countries all over the world formed an allianc...</td>\n",
       "    </tr>\n",
       "    <tr>\n",
       "      <th>787</th>\n",
       "      <td>Mahou Shoujo-tai Arusu</td>\n",
       "      <td>Arusu believes in magic. With all her heart, s...</td>\n",
       "    </tr>\n",
       "    <tr>\n",
       "      <th>6656</th>\n",
       "      <td>Mahou Shoujo Madoka★Magica Movie 1: Hajimari n...</td>\n",
       "      <td>Madoka Kaname and her best friend Sayaka Miki ...</td>\n",
       "    </tr>\n",
       "    <tr>\n",
       "      <th>2687</th>\n",
       "      <td>Motto! Ojamajo Doremi: Kaeru Ishi no Himitsu</td>\n",
       "      <td>Mo~tto Ojamajo Doremi movie features the five ...</td>\n",
       "    </tr>\n",
       "    <tr>\n",
       "      <th>3</th>\n",
       "      <td>Witch Hunter Robin</td>\n",
       "      <td>Witches are individuals with special powers li...</td>\n",
       "    </tr>\n",
       "    <tr>\n",
       "      <th>8581</th>\n",
       "      <td>Gakkou no Kaidan Recaps</td>\n",
       "      <td>A new year special where Momoko stars to remem...</td>\n",
       "    </tr>\n",
       "    <tr>\n",
       "      <th>326</th>\n",
       "      <td>Ojamajo Doremi</td>\n",
       "      <td>Harukaze Doremi considers herself to be the un...</td>\n",
       "    </tr>\n",
       "  </tbody>\n",
       "</table>\n",
       "</div>"
      ],
      "text/plain": [
       "                                                   title  \\\n",
       "329                              Ojamajo Doremi Dokkaan!   \n",
       "14618  Renmei Kuugun Koukuu Mahou Ongakutai Luminous ...   \n",
       "12272                    Zero kara Hajimeru Mahou no Sho   \n",
       "17062                     World Witches Hasshin Shimasu!   \n",
       "787                               Mahou Shoujo-tai Arusu   \n",
       "6656   Mahou Shoujo Madoka★Magica Movie 1: Hajimari n...   \n",
       "2687        Motto! Ojamajo Doremi: Kaeru Ishi no Himitsu   \n",
       "3                                     Witch Hunter Robin   \n",
       "8581                             Gakkou no Kaidan Recaps   \n",
       "326                                       Ojamajo Doremi   \n",
       "\n",
       "                                                synopsis  \n",
       "329    Hana now becomes a peer of the Ojamajo. When M...  \n",
       "14618  These are witches who defend everyone's smiles...  \n",
       "12272  In a world of constant war between humans and ...  \n",
       "17062  Countries all over the world formed an allianc...  \n",
       "787    Arusu believes in magic. With all her heart, s...  \n",
       "6656   Madoka Kaname and her best friend Sayaka Miki ...  \n",
       "2687   Mo~tto Ojamajo Doremi movie features the five ...  \n",
       "3      Witches are individuals with special powers li...  \n",
       "8581   A new year special where Momoko stars to remem...  \n",
       "326    Harukaze Doremi considers herself to be the un...  "
      ]
     },
     "execution_count": 12,
     "metadata": {},
     "output_type": "execute_result"
    }
   ],
   "source": [
    "content_recommender('Motto! Ojamajo Doremi')"
   ]
  },
  {
   "cell_type": "code",
   "execution_count": null,
   "id": "3432311b",
   "metadata": {},
   "outputs": [],
   "source": []
  }
 ],
 "metadata": {
  "kernelspec": {
   "display_name": "Python 3",
   "language": "python",
   "name": "python3"
  },
  "language_info": {
   "codemirror_mode": {
    "name": "ipython",
    "version": 3
   },
   "file_extension": ".py",
   "mimetype": "text/x-python",
   "name": "python",
   "nbconvert_exporter": "python",
   "pygments_lexer": "ipython3",
   "version": "3.8.10"
  }
 },
 "nbformat": 4,
 "nbformat_minor": 5
}
